{
 "cells": [
  {
   "cell_type": "code",
   "execution_count": null,
   "metadata": {},
   "outputs": [],
   "source": [
    "import matplotlib.pyplot as plt\n",
    "import os\n",
    "import PIL.Image as Image\n",
    "import numpy as np\n",
    "import pandas as pd\n",
    "import glob\n",
    "\n",
    "import pydicom\n",
    "from pydicom.pixel_data_handlers import apply_voi_lut\n",
    "from pydicom.pixel_data_handlers.util import apply_windowing\n",
    "from sklearn.model_selection import train_test_split\n",
    "common_dir = '/home/ncp/workspace/202002n050/050.신경계 질환 관련 임상 및 진료 데이터'"
   ]
  },
  {
   "cell_type": "code",
   "execution_count": null,
   "metadata": {},
   "outputs": [],
   "source": [
    "FILE_EXTENSION = ['.png', '.PNG', '.jpg', '.JPG', '.dcm', '.DCM', '.raw', '.RAW', '.svs', '.SVS']\n",
    "IMG_EXTENSION = ['.png', '.PNG', '.jpg', '.JPG', '.jpeg', '.JPEG']\n",
    "DCM_EXTENSION = ['.dcm', '.DCM']\n",
    "RAW_EXTENSION = ['.raw', '.RAW']\n",
    "NIFTI_EXTENSION = ['.nii']\n",
    "NP_EXTENSION = ['.npy']\n",
    "\n",
    "common_dir = '/home/ncp/workspace/202002n050/050.신경계 질환 관련 임상 및 진료 데이터'\n",
    "\n",
    "\n",
    "def check_extension(filename, extension_ls=FILE_EXTENSION):\n",
    "    return any(filename.endswith(extension) for extension in extension_ls)\n",
    "\n",
    "\n",
    "def load_file_path(folder_path, extension_ls=FILE_EXTENSION, all_sub_folders=False):\n",
    "    \"\"\"find 'IMG_EXTENSION' file paths in folder.\n",
    "    \n",
    "    Parameters:\n",
    "        folder_path (str) -- folder directory\n",
    "        extension_ls (list) -- list of extensions\n",
    "    \n",
    "    Return:\n",
    "        file_paths (list) -- list of 'extension_ls' file paths\n",
    "    \"\"\"\n",
    "    \n",
    "    file_paths = []\n",
    "    assert os.path.isdir(folder_path), f'{folder_path} is not a valid directory'\n",
    "\n",
    "    for root, _, fnames in sorted(os.walk(folder_path)):\n",
    "        for fname in fnames:\n",
    "            if check_extension(fname, extension_ls):\n",
    "                path = os.path.join(root, fname)\n",
    "                file_paths.append(path)\n",
    "        if not all_sub_folders:\n",
    "            break\n",
    "\n",
    "    return file_paths[:]\n",
    "\n",
    "\n",
    "def gen_new_dir(new_dir):\n",
    "    try: \n",
    "        if not os.path.exists(new_dir): \n",
    "            os.makedirs(new_dir) \n",
    "            #print(f\"New directory!: {new_dir}\")\n",
    "    except OSError: \n",
    "        print(\"Error: Failed to create the directory.\")\n",
    "\n",
    "\n",
    "def find_aihub_img_label_dirs(fname, mod='train'):\n",
    "    if mod == 'train':\n",
    "        img_dir = os.path.join(common_dir, '01.데이터/1.Training/원천데이터', fname, 'init/image')\n",
    "        mask_dir = os.path.join(common_dir, '01.데이터/1.Training/라벨링데이터', fname, 'init/mask')\n",
    "    elif mod == 'val':\n",
    "        img_dir = os.path.join(common_dir, '01.데이터/2.Validation/원천데이터', fname, 'init/image')\n",
    "        mask_dir = os.path.join(common_dir, '01.데이터/2.Validation/라벨링데이터', fname, 'init/mask')\n",
    "    else:\n",
    "        return None\n",
    "    return [img_dir, mask_dir]\n",
    "\n",
    "\n",
    "def pair_img_mask_path(fname, mod='train'):\n",
    "    img_dir, mask_dir = find_aihub_img_label_dirs(fname, mod)\n",
    "    img_path_ls = sorted(glob.glob(os.path.join(img_dir, '*.png')))\n",
    "    if len(img_path_ls) == 0:\n",
    "        return None\n",
    "    img_path_dict = {os.path.splitext(os.path.basename(p))[0]:p for p in img_path_ls}\n",
    "    if os.path.isdir(mask_dir):\n",
    "        mask_path_ls = sorted(glob.glob(os.path.join(mask_dir, '*.png')))\n",
    "        mask_path_dict = {os.path.splitext(os.path.basename(p))[0]:p for p in mask_path_ls}\n",
    "    else:\n",
    "        mask_path_dict = {}\n",
    "    paired_list = []\n",
    "    for imgnum, imgpath in img_path_dict.items():\n",
    "        paired_list.append([imgpath, mask_path_dict.get(imgnum)])\n",
    "    return paired_list\n",
    "\n",
    "\n",
    "def find_aihub_img_label_paths(common_dir, mod='train'):\n",
    "    if mod=='train':\n",
    "        data_dir = os.path.join(common_dir, '01.데이터/1.Training/원천데이터')\n",
    "    elif mod=='val':\n",
    "        data_dir = os.path.join(common_dir, '01.데이터/2.Validation/원천데이터')\n",
    "        \n",
    "    _fname = os.listdir(data_dir)\n",
    "    _fname = [p for p in _fname if os.path.isdir(os.path.join(data_dir, p))]\n",
    "    paths_list = []\n",
    "    for fname in _fname:\n",
    "        tmp = pair_img_mask_path(fname, mod)\n",
    "        if tmp:\n",
    "            for p in tmp:\n",
    "                paths_list.append(p)\n",
    "    img_list, mask_list = list(zip(*paths_list))\n",
    "    return img_list, mask_list\n"
   ]
  },
  {
   "cell_type": "code",
   "execution_count": null,
   "metadata": {},
   "outputs": [],
   "source": [
    "aihub_df = pd.read_csv('/home/ncp/workspace/blocks1/aihub_df_define_dcm.csv')"
   ]
  },
  {
   "cell_type": "code",
   "execution_count": null,
   "metadata": {},
   "outputs": [],
   "source": [
    "import pickle"
   ]
  },
  {
   "cell_type": "code",
   "execution_count": null,
   "metadata": {},
   "outputs": [],
   "source": [
    "with open('fname_dicom.pickle', 'rb') as fr:\n",
    "    fname_dicom_dict_load = pickle.load(fr)"
   ]
  },
  {
   "cell_type": "code",
   "execution_count": null,
   "metadata": {},
   "outputs": [],
   "source": [
    "def sample_stack(stack, rows=6, cols=6, start_with=0, show_every=1):\n",
    "    try:\n",
    "        fig,ax = plt.subplots(rows,cols,figsize=[18,20])\n",
    "        for i in range(rows*cols):\n",
    "            ind = start_with + i*show_every\n",
    "            ax[int(i/cols), int(i%cols)].set_title(f'slice {ind}')\n",
    "\n",
    "            ax[int(i/cols), int(i%cols)].imshow(stack[ind],cmap='gray', vmin=0, vmax=255)#, vmin=0, vmax=255\n",
    "            ax[int(i/cols), int(i%cols)].axis('off')\n",
    "        plt.show()\n",
    "    except:\n",
    "        pass"
   ]
  },
  {
   "cell_type": "code",
   "execution_count": null,
   "metadata": {},
   "outputs": [],
   "source": [
    "def normalize(img_arr):\n",
    "    norm_arr = (img_arr-img_arr.min())/(img_arr.max()-img_arr.min())*255\n",
    "    return norm_arr.astype(np.uint8)"
   ]
  },
  {
   "cell_type": "code",
   "execution_count": null,
   "metadata": {},
   "outputs": [],
   "source": [
    "def normalize(img_arr):\n",
    "    norm_arr = img_arr -img_arr.min()\n",
    "    if norm_arr.max() != 0:\n",
    "        norm_arr = norm_arr / norm_arr.max()\n",
    "    norm_arr = (norm_arr*255).astype(np.uint8)\n",
    "    return norm_arr"
   ]
  },
  {
   "cell_type": "code",
   "execution_count": null,
   "metadata": {},
   "outputs": [],
   "source": [
    "def load_mr_scans(dcm_paths):\n",
    "    #dcm_paths = sorted(load_file_path(patient_folder_path, DCM_EXTENSION))\n",
    "    \n",
    "    slices = [pydicom.read_file(dcm_path, force=True) for dcm_path in dcm_paths]\n",
    "    #slices = [s for s in slices if 'DIFFUSION' in s.ImageType]\n",
    "    #slices = [s for s in slices if '*ep_b1000t' == s.SequenceName]\n",
    "    slices.sort(key = lambda x: float(x.ImagePositionPatient[2]), reverse=True)\n",
    "    \n",
    "    \n",
    "    \n",
    "    images = np.stack([file.pixel_array for file in slices])\n",
    "    #images = normalize(images)\n",
    "    return slices, images"
   ]
  },
  {
   "cell_type": "code",
   "execution_count": null,
   "metadata": {},
   "outputs": [],
   "source": [
    "def save_arr_to_np(arr, savepoint, fname):\n",
    "    np.save(os.path.join(savepoint, fname+'.npy'), arr)\n",
    "    #print(f'Saved! {fname}')"
   ]
  },
  {
   "cell_type": "code",
   "execution_count": null,
   "metadata": {},
   "outputs": [],
   "source": [
    "import scipy.ndimage"
   ]
  },
  {
   "cell_type": "code",
   "execution_count": null,
   "metadata": {},
   "outputs": [],
   "source": [
    "def resample_3d(image_3d, dsize=(36,256,256)):\n",
    "    rounded_resize_factor = np.array(dsize) / image_3d.shape\n",
    "    \n",
    "    return scipy.ndimage.interpolation.zoom(image_3d, rounded_resize_factor, mode='nearest')"
   ]
  },
  {
   "cell_type": "code",
   "execution_count": null,
   "metadata": {},
   "outputs": [],
   "source": [
    "savepoint = '/home/ncp/workspace/blocks1/dicom_to_np'\n",
    "dwi_savepoint = os.path.join(savepoint, 'dwi')\n",
    "adc_savepoint = os.path.join(savepoint, 'adc')\n",
    "gen_new_dir(dwi_savepoint)\n",
    "gen_new_dir(adc_savepoint)\n",
    "\n",
    "for fname_, dwi_adc_ls_ in tqdm(fname_dicom_dict_load.items()):\n",
    "    dwi_path_ls, adc_path_ls = dwi_adc_ls_\n",
    "    if dwi_path_ls == []:\n",
    "        pass\n",
    "    else:\n",
    "        _, dwi_3d_im = load_mr_scans(dwi_path_ls)\n",
    "        #dwi_3d_im = resample_3d(dwi_3d_im)\n",
    "        save_arr_to_np(dwi_3d_im, dwi_savepoint, fname_)\n",
    "    if adc_path_ls == None:\n",
    "        pass\n",
    "    else:\n",
    "        _, adc_3d_im = load_mr_scans(adc_path_ls)\n",
    "        #adc_3d_im = resample_3d(adc_3d_im)\n",
    "        save_arr_to_np(adc_3d_im, adc_savepoint, fname_)"
   ]
  },
  {
   "cell_type": "code",
   "execution_count": null,
   "metadata": {},
   "outputs": [],
   "source": [
    "import matplotlib.patches as patches\n",
    "from matplotlib import cm, colors\n",
    "from skimage import exposure, util\n",
    "\n",
    "def ahe_3d(img_3d):\n",
    "    img_3d = img_3d.transpose()\n",
    "    img_3d = np.clip(img_3d,\n",
    "                    np.percentile(img_3d, 5),\n",
    "                    np.percentile(img_3d, 95))\n",
    "    img_3d = img_3d -img_3d.min()\n",
    "    if img_3d.max() != 0:\n",
    "        img_3d = img_3d / img_3d.max()\n",
    "    img_3d = (img_3d-img_3d.min()) / (img_3d.max()-img_3d.min())\n",
    "\n",
    "    kernel_size = (img_3d.shape[0] // 5,\n",
    "                  img_3d.shape[1] // 5,\n",
    "                  img_3d.shape[2] // 5)\n",
    "    kernel_size = np.array(kernel_size)\n",
    "    clip_limit = 0.8\n",
    "\n",
    "    img_3d_ahe = exposure.equalize_adapthist(img_3d,\n",
    "                                            kernel_size=kernel_size,\n",
    "                                            clip_limit=clip_limit)\n",
    "    return img_3d_ahe.transpose()\n",
    "\n",
    "def he_3d(img_3d):\n",
    "    img_3d = img_3d.transpose()\n",
    "    img_3d = np.clip(img_3d,\n",
    "                    np.percentile(img_3d, 5),\n",
    "                    np.percentile(img_3d, 95))\n",
    "    img_3d = (img_3d-img_3d.min()) / (img_3d.max()-img_3d.min())\n",
    "\n",
    "    img_3d_ahe = exposure.equalize_adapthist(img_3d)\n",
    "    return img_3d_ahe.transpose()"
   ]
  },
  {
   "cell_type": "code",
   "execution_count": null,
   "metadata": {},
   "outputs": [],
   "source": [
    "def load_mr_scans(dcm_paths):\n",
    "    #dcm_paths = sorted(load_file_path(patient_folder_path, DCM_EXTENSION))\n",
    "    \n",
    "    slices = [pydicom.read_file(dcm_path, force=True) for dcm_path in dcm_paths]\n",
    "    #slices = [s for s in slices if 'DIFFUSION' in s.ImageType]\n",
    "    #slices = [s for s in slices if '*ep_b1000t' == s.SequenceName]\n",
    "    slices.sort(key = lambda x: float(x.ImagePositionPatient[2]), reverse=True)\n",
    "    \n",
    "    \n",
    "    \n",
    "    images = np.stack([file.pixel_array for file in slices])\n",
    "    images = he_3d(images)\n",
    "    return slices, images"
   ]
  },
  {
   "cell_type": "code",
   "execution_count": null,
   "metadata": {},
   "outputs": [],
   "source": [
    "savepoint = '/home/ncp/workspace/blocks1/dicom_to_np_3dhe'\n",
    "dwi_savepoint = os.path.join(savepoint, 'dwi')\n",
    "adc_savepoint = os.path.join(savepoint, 'adc')\n",
    "gen_new_dir(dwi_savepoint)\n",
    "gen_new_dir(adc_savepoint)\n",
    "\n",
    "for fname_, dwi_adc_ls_ in tqdm(fname_dicom_dict_load.items()):\n",
    "    dwi_path_ls, adc_path_ls = dwi_adc_ls_\n",
    "    if dwi_path_ls == []:\n",
    "        pass\n",
    "    else:\n",
    "        _, dwi_3d_im = load_mr_scans(dwi_path_ls)\n",
    "        #dwi_3d_im = resample_3d(dwi_3d_im)\n",
    "        save_arr_to_np(dwi_3d_im, dwi_savepoint, fname_)\n",
    "    if adc_path_ls == None:\n",
    "        pass\n",
    "    else:\n",
    "        _, adc_3d_im = load_mr_scans(adc_path_ls)\n",
    "        #adc_3d_im = resample_3d(adc_3d_im)\n",
    "        save_arr_to_np(adc_3d_im, adc_savepoint, fname_)"
   ]
  },
  {
   "cell_type": "code",
   "execution_count": null,
   "metadata": {},
   "outputs": [],
   "source": [
    "dwi_3d_im.dtype"
   ]
  },
  {
   "cell_type": "code",
   "execution_count": null,
   "metadata": {},
   "outputs": [],
   "source": [
    "def ahe_3d(img_3d):\n",
    "    img_3d = img_3d.transpose()\n",
    "    img_3d = np.clip(img_3d,\n",
    "                    np.percentile(img_3d, 50),\n",
    "                    np.percentile(img_3d, 97))\n",
    "    img_3d = img_3d - img_3d.min()\n",
    "    if img_3d.max() != 0:\n",
    "        img_3d = img_3d / img_3d.max()\n",
    "    #img_3d = (img_3d-img_3d.min()) / (img_3d.max()-img_3d.min())\n",
    "\n",
    "    kernel_size = (img_3d.shape[0] // 2,\n",
    "                  img_3d.shape[1] // 2,\n",
    "                  img_3d.shape[2] // 2)\n",
    "    kernel_size = np.array(kernel_size)\n",
    "    clip_limit = .9\n",
    "\n",
    "    img_3d_ahe = exposure.equalize_adapthist(img_3d,\n",
    "                                            kernel_size=kernel_size,\n",
    "                                            clip_limit=clip_limit)\n",
    "    return img_3d_ahe.transpose()\n",
    "\n",
    "def he_3d(img_3d):\n",
    "    img_3d = img_3d.transpose()\n",
    "    img_3d = np.clip(img_3d,\n",
    "                    np.percentile(img_3d, 5),\n",
    "                    np.percentile(img_3d, 100))\n",
    "    img_3d = (img_3d-img_3d.min()) / (img_3d.max()-img_3d.min())\n",
    "\n",
    "    img_3d_ahe = exposure.equalize_adapthist(img_3d)\n",
    "    return img_3d_ahe.transpose()"
   ]
  },
  {
   "cell_type": "code",
   "execution_count": null,
   "metadata": {},
   "outputs": [],
   "source": [
    "loadpoint = '/home/ncp/workspace/blocks1/dicom_to_np_2dnorm'\n",
    "dwi_loadpoint = os.path.join(loadpoint, 'dwi')\n",
    "adc_loadpoint = os.path.join(loadpoint, 'adc')\n",
    "\n",
    "savepoint = '/home/ncp/workspace/blocks1/dicom_to_np_2dnorm_resample'\n",
    "dwi_savepoint = os.path.join(savepoint, 'dwi')\n",
    "adc_savepoint = os.path.join(savepoint, 'adc')\n",
    "gen_new_dir(dwi_savepoint)\n",
    "gen_new_dir(adc_savepoint)\n",
    "\n",
    "dwi_npy_paths = load_file_path(dwi_loadpoint, NP_EXTENSION)\n",
    "adc_npy_paths = load_file_path(adc_loadpoint, NP_EXTENSION)\n",
    "\n"
   ]
  },
  {
   "cell_type": "code",
   "execution_count": null,
   "metadata": {},
   "outputs": [],
   "source": [
    "np.load(dwi_npy_paths[1222]).shape"
   ]
  },
  {
   "cell_type": "code",
   "execution_count": null,
   "metadata": {},
   "outputs": [],
   "source": [
    "import cv2\n",
    "\n",
    "def resize_padding(arr):\n",
    "    arr_rsz = np.stack([cv2.resize(slices, dsize=(256,256), interpolation=cv2.INTER_CUBIC) for slices in arr])\n",
    "    pad = 50-len(arr_rsz)\n",
    "    return np.pad(arr_rsz, ((pad//2,pad-pad//2),(0,0),(0,0)))"
   ]
  },
  {
   "cell_type": "code",
   "execution_count": null,
   "metadata": {},
   "outputs": [],
   "source": [
    "len(resize_padding(np.load(dwi_npy_paths[90]))) != 50"
   ]
  },
  {
   "cell_type": "code",
   "execution_count": null,
   "metadata": {},
   "outputs": [],
   "source": [
    "loadpoint = '/home/ncp/workspace/blocks1/dicom_to_np_2dnorm'\n",
    "dwi_loadpoint = os.path.join(loadpoint, 'dwi')\n",
    "adc_loadpoint = os.path.join(loadpoint, 'adc')\n",
    "\n",
    "savepoint = '/home/ncp/workspace/blocks1/dicom_to_np_2dnorm_resample'\n",
    "dwi_savepoint = os.path.join(savepoint, 'dwi')\n",
    "adc_savepoint = os.path.join(savepoint, 'adc')\n",
    "gen_new_dir(dwi_savepoint)\n",
    "gen_new_dir(adc_savepoint)\n",
    "\n",
    "dwi_npy_paths = load_file_path(dwi_loadpoint, NP_EXTENSION)\n",
    "adc_npy_paths = load_file_path(adc_loadpoint, NP_EXTENSION)\n",
    "\n",
    "for p in tqdm(dwi_npy_paths):\n",
    "    fname = os.path.splitext(os.path.basename(p))[0]\n",
    "    dwi_3d_im = np.load(p)\n",
    "    dwi_3d_im = resample_3d(dwi_3d_im)\n",
    "    save_arr_to_np(dwi_3d_im, dwi_savepoint, fname)\n",
    "    \n",
    "# for p in tqdm(adc_npy_paths):\n",
    "#     fname = os.path.splitext(os.path.basename(p))[0]\n",
    "#     adc_3d_im = np.load(p)\n",
    "#     adc_3d_im = resize_padding(adc_3d_im)\n",
    "#     save_arr_to_np(adc_3d_im, adc_savepoint, fname)"
   ]
  },
  {
   "cell_type": "code",
   "execution_count": null,
   "metadata": {},
   "outputs": [],
   "source": [
    "loadpoint = '/home/ncp/workspace/blocks1/dicom_to_np_2dnorm'\n",
    "dwi_loadpoint = os.path.join(loadpoint, 'dwi')\n",
    "adc_loadpoint = os.path.join(loadpoint, 'adc')\n",
    "\n",
    "savepoint = '/home/ncp/workspace/blocks1/dicom_to_np_2dnorm_pad'\n",
    "dwi_savepoint = os.path.join(savepoint, 'dwi')\n",
    "adc_savepoint = os.path.join(savepoint, 'adc')\n",
    "gen_new_dir(dwi_savepoint)\n",
    "gen_new_dir(adc_savepoint)\n",
    "\n",
    "dwi_npy_paths = load_file_path(dwi_loadpoint, NP_EXTENSION)\n",
    "adc_npy_paths = load_file_path(adc_loadpoint, NP_EXTENSION)\n",
    "\n",
    "for p in tqdm(dwi_npy_paths):\n",
    "    fname = os.path.splitext(os.path.basename(p))[0]\n",
    "    dwi_3d_im = np.load(p)\n",
    "    dwi_3d_im = resize_padding(dwi_3d_im)\n",
    "    save_arr_to_np(dwi_3d_im, dwi_savepoint, fname)\n",
    "    \n",
    "# for p in tqdm(adc_npy_paths):\n",
    "#     fname = os.path.splitext(os.path.basename(p))[0]\n",
    "#     adc_3d_im = np.load(p)\n",
    "#     adc_3d_im = resize_padding(adc_3d_im)\n",
    "#     save_arr_to_np(adc_3d_im, adc_savepoint, fname)"
   ]
  },
  {
   "cell_type": "code",
   "execution_count": null,
   "metadata": {},
   "outputs": [],
   "source": [
    "loadpoint = '/home/ncp/workspace/blocks1/dicom_to_np_3dnorm'\n",
    "dwi_loadpoint = os.path.join(loadpoint, 'dwi')\n",
    "adc_loadpoint = os.path.join(loadpoint, 'adc')\n",
    "\n",
    "savepoint = '/home/ncp/workspace/blocks1/dicom_to_np_3dnorm_pad'\n",
    "dwi_savepoint = os.path.join(savepoint, 'dwi')\n",
    "adc_savepoint = os.path.join(savepoint, 'adc')\n",
    "gen_new_dir(dwi_savepoint)\n",
    "gen_new_dir(adc_savepoint)\n",
    "\n",
    "dwi_npy_paths = load_file_path(dwi_loadpoint, NP_EXTENSION)\n",
    "adc_npy_paths = load_file_path(adc_loadpoint, NP_EXTENSION)\n",
    "\n",
    "for p in tqdm(dwi_npy_paths):\n",
    "    fname = os.path.splitext(os.path.basename(p))[0]\n",
    "    dwi_3d_im = np.load(p)\n",
    "    dwi_3d_im = resize_padding(dwi_3d_im)\n",
    "    save_arr_to_np(dwi_3d_im, dwi_savepoint, fname)\n",
    "    \n",
    "# for p in tqdm(adc_npy_paths):\n",
    "#     fname = os.path.splitext(os.path.basename(p))[0]\n",
    "#     adc_3d_im = np.load(p)\n",
    "#     adc_3d_im = resize_padding(adc_3d_im)\n",
    "#     save_arr_to_np(adc_3d_im, adc_savepoint, fname)"
   ]
  },
  {
   "cell_type": "code",
   "execution_count": null,
   "metadata": {},
   "outputs": [],
   "source": [
    "from tqdm.notebook import tqdm"
   ]
  },
  {
   "cell_type": "code",
   "execution_count": null,
   "metadata": {},
   "outputs": [],
   "source": [
    "loadpoint = '/home/ncp/workspace/blocks1/dicom_to_np'\n",
    "dwi_loadpoint = os.path.join(loadpoint, 'dwi')\n",
    "adc_loadpoint = os.path.join(loadpoint, 'adc')\n",
    "\n",
    "savepoint = '/home/ncp/workspace/blocks1/dicom_to_np_he_resample_v2'\n",
    "dwi_savepoint = os.path.join(savepoint, 'dwi')\n",
    "adc_savepoint = os.path.join(savepoint, 'adc')\n",
    "gen_new_dir(dwi_savepoint)\n",
    "gen_new_dir(adc_savepoint)\n",
    "\n",
    "dwi_npy_paths = load_file_path(dwi_loadpoint, NP_EXTENSION)\n",
    "adc_npy_paths = load_file_path(adc_loadpoint, NP_EXTENSION)\n",
    "cnt = 0\n",
    "# for p in tqdm(dwi_npy_paths):\n",
    "#     fname = os.path.splitext(os.path.basename(p))[0]\n",
    "#     dwi_3d_im = np.load(p)\n",
    "#     if len(dwi_3d_im) >= 20:\n",
    "#         dwi_3d_im = he_3d(dwi_3d_im)\n",
    "#         dwi_3d_im = resample_3d(dwi_3d_im)\n",
    "#         save_arr_to_np(dwi_3d_im, dwi_savepoint, fname)\n",
    "#     else:\n",
    "#         cnt+=1\n",
    "    \n",
    "for p in tqdm(adc_npy_paths):\n",
    "    fname = os.path.splitext(os.path.basename(p))[0]\n",
    "    adc_3d_im = np.load(p)\n",
    "    if len(adc_3d_im) >= 20:\n",
    "        adc_3d_im = he_3d(adc_3d_im)\n",
    "        adc_3d_im = resample_3d(adc_3d_im)\n",
    "        save_arr_to_np(adc_3d_im, adc_savepoint, fname)\n",
    "    else:\n",
    "        cnt+=1"
   ]
  },
  {
   "cell_type": "code",
   "execution_count": null,
   "metadata": {},
   "outputs": [],
   "source": [
    "sample_he = load_file_path('/home/ncp/workspace/blocks1/dicom_to_np_he_resample_v2/dwi', NP_EXTENSION)"
   ]
  },
  {
   "cell_type": "code",
   "execution_count": null,
   "metadata": {},
   "outputs": [],
   "source": [
    "cnt"
   ]
  },
  {
   "cell_type": "code",
   "execution_count": null,
   "metadata": {},
   "outputs": [],
   "source": [
    "dwi_3d_im = np.load(p)"
   ]
  },
  {
   "cell_type": "code",
   "execution_count": null,
   "metadata": {},
   "outputs": [],
   "source": [
    "img_3d = dwi_3d_im"
   ]
  },
  {
   "cell_type": "code",
   "execution_count": null,
   "metadata": {},
   "outputs": [],
   "source": [
    "img_3d = np.clip(img_3d,\n",
    "                np.percentile(img_3d, 5),\n",
    "                np.percentile(img_3d, 95))\n",
    "img_3d = (img_3d-img_3d.min()) / (img_3d.max()-img_3d.min())"
   ]
  },
  {
   "cell_type": "code",
   "execution_count": null,
   "metadata": {},
   "outputs": [],
   "source": [
    "len(img_3d)"
   ]
  },
  {
   "cell_type": "code",
   "execution_count": null,
   "metadata": {},
   "outputs": [],
   "source": [
    "def he_3d(img_3d):\n",
    "    img_3d = img_3d.transpose()\n",
    "    img_3d = np.clip(img_3d,\n",
    "                    np.percentile(img_3d, 5),\n",
    "                    np.percentile(img_3d, 95))\n",
    "    img_3d = (img_3d-img_3d.min()) / (img_3d.max()-img_3d.min())\n",
    "\n",
    "    img_3d_ahe = exposure.equalize_adapthist(img_3d)\n",
    "    return img_3d_ahe.transpose()"
   ]
  },
  {
   "cell_type": "code",
   "execution_count": null,
   "metadata": {},
   "outputs": [],
   "source": [
    "loadpoint = '/home/ncp/workspace/blocks1/dicom_to_np_2dnorm'\n",
    "dwi_loadpoint = os.path.join(loadpoint, 'dwi')\n",
    "adc_loadpoint = os.path.join(loadpoint, 'adc')\n",
    "\n",
    "dwi_npy_paths = load_file_path(dwi_loadpoint, NP_EXTENSION)\n",
    "adc_npy_paths = load_file_path(adc_loadpoint, NP_EXTENSION)"
   ]
  },
  {
   "cell_type": "code",
   "execution_count": null,
   "metadata": {},
   "outputs": [],
   "source": [
    "dwi_dict = {os.path.splitext(os.path.basename(p))[0]:p for p in dwi_npy_paths}\n",
    "adc_dict = {os.path.splitext(os.path.basename(p))[0]:p for p in adc_npy_paths}\n",
    "\n",
    "savepoint = '/home/ncp/workspace/blocks1/dicom_to_png_2d'\n",
    "\n",
    "dwi_adc_pair = []\n",
    "\n",
    "for fname, p in dwi_dict.items():\n",
    "    find_adc_path = adc_dict.get(fname)\n",
    "    if find_adc_path:\n",
    "        dwi_adc_pair.append([p, find_adc_path])\n",
    "\n",
    "for dwi_p, adc_p in tqdm(dwi_adc_pair):\n",
    "    dwi_im = np.load(dwi_p)\n",
    "    adc_im = np.load(adc_p)\n",
    "    fname = os.path.splitext(os.path.basename(dwi_p))[0]\n",
    "    if len(dwi_im) == len(adc_im):\n",
    "        dwi_savepoint = os.path.join(savepoint, fname, 'dwi')\n",
    "        adc_savepoint = os.path.join(savepoint, fname, 'adc')\n",
    "        gen_new_dir(dwi_savepoint)\n",
    "        gen_new_dir(adc_savepoint)\n",
    "        resize_and_save_2d(dwi_im, dwi_savepoint)\n",
    "        resize_and_save_2d(adc_im, adc_savepoint)"
   ]
  },
  {
   "cell_type": "code",
   "execution_count": null,
   "metadata": {},
   "outputs": [],
   "source": [
    "import os\n",
    "import numpy as np\n",
    "import glob\n",
    "\n",
    "FILE_EXTENSION = ['.png', '.PNG', '.jpg', '.JPG', '.dcm', '.DCM', '.raw', '.RAW', '.svs', '.SVS']\n",
    "IMG_EXTENSION = ['.png', '.PNG', '.jpg', '.JPG', '.jpeg', '.JPEG']\n",
    "DCM_EXTENSION = ['.dcm', '.DCM']\n",
    "RAW_EXTENSION = ['.raw', '.RAW']\n",
    "NIFTI_EXTENSION = ['.nii']\n",
    "NP_EXTENSION = ['.npy']\n",
    "\n",
    "common_dir = '/home/ncp/workspace/202002n050/050.신경계 질환 관련 임상 및 진료 데이터'\n",
    "\n",
    "\n",
    "def check_extension(filename, extension_ls=FILE_EXTENSION):\n",
    "    return any(filename.endswith(extension) for extension in extension_ls)\n",
    "\n",
    "\n",
    "def load_file_path(folder_path, extension_ls=FILE_EXTENSION, all_sub_folders=False):\n",
    "    \"\"\"find 'IMG_EXTENSION' file paths in folder.\n",
    "    \n",
    "    Parameters:\n",
    "        folder_path (str) -- folder directory\n",
    "        extension_ls (list) -- list of extensions\n",
    "    \n",
    "    Return:\n",
    "        file_paths (list) -- list of 'extension_ls' file paths\n",
    "    \"\"\"\n",
    "    \n",
    "    file_paths = []\n",
    "    assert os.path.isdir(folder_path), f'{folder_path} is not a valid directory'\n",
    "\n",
    "    for root, _, fnames in sorted(os.walk(folder_path)):\n",
    "        for fname in fnames:\n",
    "            if check_extension(fname, extension_ls):\n",
    "                path = os.path.join(root, fname)\n",
    "                file_paths.append(path)\n",
    "        if not all_sub_folders:\n",
    "            break\n",
    "\n",
    "    return file_paths[:]\n",
    "\n",
    "\n",
    "def gen_new_dir(new_dir):\n",
    "    try: \n",
    "        if not os.path.exists(new_dir): \n",
    "            os.makedirs(new_dir) \n",
    "            #print(f\"New directory!: {new_dir}\")\n",
    "    except OSError: \n",
    "        print(\"Error: Failed to create the directory.\")\n",
    "\n",
    "\n",
    "def find_aihub_img_label_dirs(fname, mod='train'):\n",
    "    if mod == 'train':\n",
    "        img_dir = os.path.join(common_dir, '01.데이터/1.Training/원천데이터', fname, 'init/image')\n",
    "        mask_dir = os.path.join(common_dir, '01.데이터/1.Training/라벨링데이터', fname, 'init/mask')\n",
    "    elif mod == 'val':\n",
    "        img_dir = os.path.join(common_dir, '01.데이터/2.Validation/원천데이터', fname, 'init/image')\n",
    "        mask_dir = os.path.join(common_dir, '01.데이터/2.Validation/라벨링데이터', fname, 'init/mask')\n",
    "    else:\n",
    "        return None\n",
    "    return [img_dir, mask_dir]\n",
    "\n",
    "\n",
    "def pair_img_mask_path(fname, mod='train'):\n",
    "    img_dir, mask_dir = find_aihub_img_label_dirs(fname, mod)\n",
    "    img_path_ls = sorted(glob.glob(os.path.join(img_dir, '*.png')))\n",
    "    if len(img_path_ls) == 0:\n",
    "        return None\n",
    "    img_path_dict = {os.path.splitext(os.path.basename(p))[0]:p for p in img_path_ls}\n",
    "    if os.path.isdir(mask_dir):\n",
    "        mask_path_ls = sorted(glob.glob(os.path.join(mask_dir, '*.png')))\n",
    "        mask_path_dict = {os.path.splitext(os.path.basename(p))[0]:p for p in mask_path_ls}\n",
    "    else:\n",
    "        mask_path_dict = {}\n",
    "    paired_list = []\n",
    "    for imgnum, imgpath in img_path_dict.items():\n",
    "        paired_list.append([imgpath, mask_path_dict.get(imgnum)])\n",
    "    return paired_list\n",
    "\n",
    "\n",
    "def find_aihub_img_label_paths(common_dir, mod='train'):\n",
    "    if mod=='train':\n",
    "        data_dir = os.path.join(common_dir, '01.데이터/1.Training/원천데이터')\n",
    "    elif mod=='val':\n",
    "        data_dir = os.path.join(common_dir, '01.데이터/2.Validation/원천데이터')\n",
    "        \n",
    "    _fname = os.listdir(data_dir)\n",
    "    _fname = [p for p in _fname if os.path.isdir(os.path.join(data_dir, p))]\n",
    "    paths_list = []\n",
    "    for fname in _fname:\n",
    "        tmp = pair_img_mask_path(fname, mod)\n",
    "        if tmp:\n",
    "            for p in tmp:\n",
    "                paths_list.append(p)\n",
    "    img_list, mask_list = list(zip(*paths_list))\n",
    "    return img_list, mask_list\n"
   ]
  },
  {
   "cell_type": "code",
   "execution_count": null,
   "metadata": {},
   "outputs": [],
   "source": [
    "import shutil"
   ]
  },
  {
   "cell_type": "code",
   "execution_count": null,
   "metadata": {},
   "outputs": [],
   "source": [
    "common_dir = '/home/ncp/workspace/202002n050/050.신경계 질환 관련 임상 및 진료 데이터'\n",
    "savepoint =  '/home/ncp/workspace/blocks1/totalmask'\n",
    "for fname, folder in tqdm(case_name_folder):\n",
    "    _, mask_dir = find_aihub_img_label_dirs(fname, folder)\n",
    "    copy_dir = os.path.join(savepoint, fname)\n",
    "    try:\n",
    "        shutil.copytree(mask_dir, copy_dir)\n",
    "    except:\n",
    "        pass"
   ]
  },
  {
   "cell_type": "code",
   "execution_count": null,
   "metadata": {},
   "outputs": [],
   "source": [
    "def find_dwi_adc_dir(img_folder_dir, fname):\n",
    "    dwi_folder_dir = os.path.join(img_folder_dir, fname, 'dwi')\n",
    "    adc_folder_dir = os.path.join(img_folder_dir, fname, 'adc')\n",
    "    if (os.path.isdir(dwi_folder_dir)) & (os.path.isdir(adc_folder_dir)):\n",
    "        return dwi_folder_dir, adc_folder_dir\n",
    "    else:\n",
    "        return None"
   ]
  },
  {
   "cell_type": "code",
   "execution_count": null,
   "metadata": {},
   "outputs": [],
   "source": [
    "def find_mask_dir(mask_folder_dir, fname):\n",
    "    mask_folder_dir = os.path.join(mask_folder_dir, fname)\n",
    "    if (os.path.isdir(mask_folder_dir)):\n",
    "        return mask_folder_dir\n",
    "    else:\n",
    "        return None"
   ]
  },
  {
   "cell_type": "code",
   "execution_count": null,
   "metadata": {},
   "outputs": [],
   "source": [
    "img_common_dir = '/home/ncp/workspace/blocks1/dicom_to_png_2d/'\n",
    "mask_common_dir = '/home/ncp/workspace/blocks1/totalmask'\n",
    "img_fname = sorted(os.listdir(img_common_dir))"
   ]
  },
  {
   "cell_type": "code",
   "execution_count": null,
   "metadata": {},
   "outputs": [],
   "source": [
    "fname = 'brain_mri_1000001'"
   ]
  },
  {
   "cell_type": "code",
   "execution_count": null,
   "metadata": {},
   "outputs": [],
   "source": [
    "def save_png(im_3d, save_point):\n",
    "    file_name = 0\n",
    "    for im_2d in im_3d[::-1]:\n",
    "        resized_img = Image.fromarray(im_2d).resize((256,256))\n",
    "        resized_img.save(os.path.join(save_point, str(file_name).zfill(3)+'.png'))\n",
    "        file_name += 1"
   ]
  },
  {
   "cell_type": "code",
   "execution_count": null,
   "metadata": {},
   "outputs": [],
   "source": [
    "def gen_2d_slices_to_3d(img_2d_path_ls):\n",
    "    img_3d = np.stack([np.array(Image.open(p)) for p in img_2d_path_ls], axis=0)\n",
    "    img_3d = resample_3d(img_3d)\n",
    "    img_3d = np.where(img_3d>128, 1, 0).astype(np.float32)\n",
    "    return img_3d"
   ]
  },
  {
   "cell_type": "code",
   "execution_count": null,
   "metadata": {},
   "outputs": [],
   "source": [
    "import scipy.ndimage"
   ]
  },
  {
   "cell_type": "code",
   "execution_count": null,
   "metadata": {},
   "outputs": [],
   "source": [
    "savepoint = '/home/ncp/workspace/blocks1/refined_mask_resample'\n",
    "gen_new_dir(savepoint)\n",
    "mask_common_dir = '/home/ncp/workspace/blocks/refined_mask'\n",
    "mask_fname_ls = os.listdir(mask_common_dir)\n",
    "for fname_ in tqdm(mask_fname_ls):\n",
    "    mask_path_ls = sorted(load_file_path(os.path.join(mask_common_dir, fname_), IMG_EXTENSION),reverse=True)\n",
    "    img_3d = gen_2d_slices_to_3d(mask_path_ls)\n",
    "    save_arr_to_np(img_3d, savepoint, fname_)"
   ]
  },
  {
   "cell_type": "code",
   "execution_count": null,
   "metadata": {},
   "outputs": [],
   "source": [
    "mask_path_ls = sorted(load_file_path(os.path.join(mask_common_dir, 'brain_mri_CC_0329'), IMG_EXTENSION),reverse=True)"
   ]
  },
  {
   "cell_type": "code",
   "execution_count": null,
   "metadata": {},
   "outputs": [],
   "source": [
    "np.stack([np.array(Image.open(p)) for p in mask_path_ls], axis=0).shape"
   ]
  },
  {
   "cell_type": "code",
   "execution_count": null,
   "metadata": {},
   "outputs": [],
   "source": [
    "def save_2d_from_3d(im_3d, save_point):\n",
    "    file_name = 0\n",
    "    for im_2d in im_3d:\n",
    "        Image.fromarray(im_2d).save(os.path.join(save_point, str(file_name).zfill(3)+'.png'))\n",
    "        file_name += 1"
   ]
  },
  {
   "cell_type": "code",
   "execution_count": null,
   "metadata": {},
   "outputs": [],
   "source": [
    "common_dir = '/home/ncp/workspace/blocks1/dicom_to_np_2dnorm_resample/'\n",
    "savepoint =  '/home/ncp/workspace/blocks2/dicom_to_png_2d_resample/'\n",
    "\n",
    "file_name_ls = os.listdir(os.path.join(common_dir, 'adc'))\n",
    "dwi_common_dir = os.path.join(common_dir, 'dwi')\n",
    "adc_common_dir = os.path.join(common_dir, 'adc')\n",
    "for fname in tqdm(file_name_ls):\n",
    "    folder = os.path.splitext(fname)[0]\n",
    "    dwi_save_path = os.path.join(savepoint, folder, 'dwi')\n",
    "    adc_save_path = os.path.join(savepoint, folder, 'adc')\n",
    "    gen_new_dir(dwi_save_path)\n",
    "    gen_new_dir(adc_save_path)\n",
    "    dwi_file_path = os.path.join(dwi_common_dir, fname)\n",
    "    adc_file_path = os.path.join(adc_common_dir, fname)\n",
    "    if os.path.isfile(dwi_file_path):\n",
    "        save_2d_from_3d(np.load(dwi_file_path),dwi_save_path)\n",
    "        save_2d_from_3d(np.load(adc_file_path),adc_save_path)"
   ]
  },
  {
   "cell_type": "code",
   "execution_count": null,
   "metadata": {},
   "outputs": [],
   "source": [
    "common_dir = '/home/ncp/workspace/blocks1/refined_mask_resample'"
   ]
  },
  {
   "cell_type": "code",
   "execution_count": null,
   "metadata": {},
   "outputs": [],
   "source": [
    "load_file_path(common_dir, NP_EXTENSION)[0]"
   ]
  },
  {
   "cell_type": "code",
   "execution_count": null,
   "metadata": {},
   "outputs": [],
   "source": [
    "os.listdir('/home/ncp/workspace/blocks2/dicom_to_png_2d_resample/brain_mri_2013-2681')"
   ]
  },
  {
   "cell_type": "code",
   "execution_count": null,
   "metadata": {},
   "outputs": [],
   "source": [
    "np.load(mask_path).astype(np.uint8).max()"
   ]
  },
  {
   "cell_type": "code",
   "execution_count": null,
   "metadata": {},
   "outputs": [],
   "source": [
    "common_dir = '/home/ncp/workspace/blocks1/refined_mask_resample'\n",
    "savepoint =  '/home/ncp/workspace/blocks2/refined_mask_resample_2d/'\n",
    "\n",
    "for mask_path in tqdm(load_file_path(common_dir, NP_EXTENSION)):\n",
    "    folder = os.path.splitext(os.path.basename(mask_path))[0]\n",
    "    mask_save_path = os.path.join(savepoint, folder)\n",
    "    gen_new_dir(mask_save_path)\n",
    "    save_2d_from_3d(np.load(mask_path).astype(np.uint8),mask_save_path)"
   ]
  },
  {
   "cell_type": "code",
   "execution_count": null,
   "metadata": {},
   "outputs": [],
   "source": [
    "os.path.isfile('/home/ncp/workspace/blocks1/dicom_to_np_2dnorm_resample/adc/brain_mri_2013-3536.npy')"
   ]
  },
  {
   "cell_type": "code",
   "execution_count": null,
   "metadata": {},
   "outputs": [],
   "source": [
    "np.load('/home/ncp/workspace/blocks1/dicom_to_np_2dnorm_resample/adc/brain_mri_2013-3536.npy').shape"
   ]
  },
  {
   "cell_type": "code",
   "execution_count": null,
   "metadata": {},
   "outputs": [],
   "source": [
    "os.path.splitext(fname[0])[0]"
   ]
  },
  {
   "cell_type": "code",
   "execution_count": null,
   "metadata": {},
   "outputs": [],
   "source": [
    "common_dir = '/home/ncp/workspace/202002n050/050.신경계 질환 관련 임상 및 진료 데이터'\n",
    "savepoint =  '/home/ncp/workspace/blocks1/totalmask'\n",
    "for fname, folder in tqdm(case_name_folder):\n",
    "    _, mask_dir = find_aihub_img_label_dirs(fname, folder)\n",
    "    copy_dir = os.path.join(savepoint, fname)\n",
    "    try:\n",
    "        shutil.copytree(mask_dir, copy_dir)\n",
    "    except:\n",
    "        pass"
   ]
  },
  {
   "cell_type": "code",
   "execution_count": null,
   "metadata": {},
   "outputs": [],
   "source": [
    "sorted(os.listdir('/home/ncp/workspace/blocks1/totalmask/brain_mri_1000107'))"
   ]
  },
  {
   "cell_type": "code",
   "execution_count": null,
   "metadata": {},
   "outputs": [],
   "source": [
    "def save_arr_to_np(arr, savepoint, fname):\n",
    "    np.save(os.path.join(savepoint, fname+'.npy'), arr)\n",
    "    #print(f'Saved! {fname}')"
   ]
  },
  {
   "cell_type": "code",
   "execution_count": null,
   "metadata": {},
   "outputs": [],
   "source": [
    "def gen_2d_slices_to_3d(img_2d_path_ls):\n",
    "    img_3d = np.stack([np.array(Image.open(p)) for p in img_2d_path_ls], axis=0)\n",
    "    img_3d = resample_3d(img_3d)\n",
    "    img_3d = np.where(img_3d==1, 1, 0).astype(np.float32)\n",
    "    return img_3d"
   ]
  },
  {
   "cell_type": "code",
   "execution_count": null,
   "metadata": {},
   "outputs": [],
   "source": [
    "def find_dwi_adc_dir(img_folder_dir, fname):\n",
    "    dwi_folder_dir = os.path.join(img_folder_dir, fname, 'dwi')\n",
    "    adc_folder_dir = os.path.join(img_folder_dir, fname, 'adc')\n",
    "    if (os.path.isdir(dwi_folder_dir)) & (os.path.isdir(adc_folder_dir)):\n",
    "        return dwi_folder_dir, adc_folder_dir\n",
    "    else:\n",
    "        return None"
   ]
  },
  {
   "cell_type": "code",
   "execution_count": null,
   "metadata": {},
   "outputs": [],
   "source": [
    "def find_mask_dir(mask_folder_dir, fname):\n",
    "    mask_folder_dir = os.path.join(mask_folder_dir, fname)\n",
    "    if (os.path.isdir(mask_folder_dir)):\n",
    "        return mask_folder_dir\n",
    "    else:\n",
    "        return None"
   ]
  },
  {
   "cell_type": "code",
   "execution_count": null,
   "metadata": {},
   "outputs": [],
   "source": [
    "save_dir = '/home/ncp/workspace/blocks/refined_mask'\n",
    "\n",
    "img_common_dir = '/home/ncp/workspace/blocks1/dicom_to_png_2d/'\n",
    "mask_common_dir = '/home/ncp/workspace/blocks1/totalmask'\n",
    "\n",
    "for fname in tqdm(sorted(os.listdir(img_common_dir))):\n",
    "    dwi_adc_folder_dir = find_dwi_adc_dir(img_common_dir, fname)\n",
    "    mask_folder_dir = find_mask_dir(mask_common_dir, fname)\n",
    "    save_point = os.path.join(save_dir, fname)\n",
    "    gen_new_dir(save_point)\n",
    "    if dwi_adc_folder_dir:\n",
    "        dwi_folder_dir, adc_folder_dir = dwi_adc_folder_dir\n",
    "        dwi_path_ls = load_file_path(dwi_folder_dir, IMG_EXTENSION)\n",
    "        dwi_img = np.array(Image.open(dwi_path_ls[0]))\n",
    "        for idx in range(len(dwi_path_ls)):\n",
    "            if mask_folder_dir:\n",
    "                mask_path = os.path.join(mask_folder_dir, str(idx).zfill(3)+'.png')\n",
    "                if os.path.isfile(mask_path):\n",
    "                    mask_img = np.array(Image.open(mask_path))\n",
    "                else:\n",
    "                    mask_img = np.zeros_like(dwi_img)\n",
    "                Image.fromarray(mask_img).save(os.path.join(save_point, str(idx).zfill(3)+'.png'))\n",
    "            else:\n",
    "                mask_img = np.zeros_like(dwi_img)\n",
    "                Image.fromarray(mask_img).save(os.path.join(save_point, str(idx).zfill(3)+'.png'))\n",
    "    #load_file_path(savepoint, IMG_EXTENSION)"
   ]
  },
  {
   "cell_type": "code",
   "execution_count": null,
   "metadata": {},
   "outputs": [],
   "source": [
    "savepoint = '/home/ncp/workspace/blocks1/refined_mask_resample'\n",
    "gen_new_dir(savepoint)\n",
    "mask_common_dir = '/home/ncp/workspace/blocks/refined_mask'\n",
    "mask_fname_ls = os.listdir(mask_common_dir)\n",
    "for fname_ in tqdm(mask_fname_ls):\n",
    "    mask_path_ls = sorted(load_file_path(os.path.join(mask_common_dir, fname_), IMG_EXTENSION))\n",
    "    img_3d = gen_2d_slices_to_3d(mask_path_ls)\n",
    "    save_arr_to_np(img_3d, savepoint, fname_)"
   ]
  },
  {
   "cell_type": "code",
   "execution_count": null,
   "metadata": {},
   "outputs": [],
   "source": [
    "img_3d.max()"
   ]
  },
  {
   "cell_type": "code",
   "execution_count": null,
   "metadata": {},
   "outputs": [],
   "source": [
    "def gen_2d_slices_to_3d(img_2d_path_ls):\n",
    "    img_3d = np.stack([np.array(Image.open(p)) for p in img_2d_path_ls], axis=0)\n",
    "    img_3d = resample_3d(img_3d)\n",
    "    img_3d = np.where(img_3d, 1, 0).astype(np.float32)\n",
    "    return img_3d"
   ]
  },
  {
   "cell_type": "code",
   "execution_count": null,
   "metadata": {},
   "outputs": [],
   "source": [
    "dwi_path_ls = sorted(load_file_path(dwi_folder_dir, IMG_EXTENSION))\n",
    "adc_path_ls = sorted(load_file_path(adc_folder_dir, IMG_EXTENSION))\n",
    "list(zip(dwi_path_ls,adc_path_ls))"
   ]
  },
  {
   "cell_type": "code",
   "execution_count": null,
   "metadata": {},
   "outputs": [],
   "source": [
    "img_common_dir = '/home/ncp/workspace/blocks1/dicom_to_png_2d/'\n",
    "mask_common_dir = '/home/ncp/workspace/blocks1/totalmask'\n",
    "\n",
    "for fname in tqdm(sorted(os.listdir(img_common_dir))):\n",
    "    dwi_adc_folder_dir = find_dwi_adc_dir(img_common_dir, fname)\n",
    "    if dwi_adc_folder_dir:\n",
    "        dwi_folder_dir, adc_folder_dir = dwi_adc_folder_dir\n",
    "        dwi_path_ls = load_file_path(dwi_folder_dir, IMG_EXTENSION)\n",
    "        adc_path_ls = load_file_path(adc_folder_dir, IMG_EXTENSION)\n",
    "        if len(dwi_path_ls) == len(adc_path_ls):\n",
    "            pass\n",
    "        else:\n",
    "            print(fname)"
   ]
  },
  {
   "cell_type": "code",
   "execution_count": null,
   "metadata": {},
   "outputs": [],
   "source": [
    "savepoint = '/home/ncp/workspace/blocks1/refined_mask_resample'\n",
    "gen_new_dir(savepoint)\n",
    "mask_common_dir = '/home/ncp/workspace/blocks/refined_mask'\n",
    "mask_fname_ls = os.listdir(mask_common_dir)\n",
    "for fname_ in tqdm(mask_fname_ls):\n",
    "    mask_path_ls = sorted(load_file_path(os.path.join(mask_common_dir, fname_), IMG_EXTENSION))\n",
    "    img_3d = gen_2d_slices_to_3d(mask_path_ls)\n",
    "    save_arr_to_np(img_3d, savepoint, fname_)"
   ]
  },
  {
   "cell_type": "code",
   "execution_count": null,
   "metadata": {},
   "outputs": [],
   "source": [
    "img_3d.max()"
   ]
  },
  {
   "cell_type": "code",
   "execution_count": null,
   "metadata": {},
   "outputs": [],
   "source": [
    "def gen_2d_slices_to_3d(img_2d_path_ls):\n",
    "    img_3d = np.stack([np.array(Image.open(p)) for p in img_2d_path_ls], axis=0)\n",
    "    img_3d = resample_3d(img_3d)\n",
    "    img_3d = np.where(img_3d, 1, 0).astype(np.float32)\n",
    "    return img_3d"
   ]
  },
  {
   "cell_type": "code",
   "execution_count": null,
   "metadata": {},
   "outputs": [],
   "source": []
  },
  {
   "cell_type": "code",
   "execution_count": null,
   "metadata": {},
   "outputs": [],
   "source": [
    "def resize_and_save_2d(im_3d, save_point):\n",
    "    file_name = 0\n",
    "    for im_2d in im_3d[::-1]:\n",
    "        resized_img = Image.fromarray(im_2d).resize((256,256))\n",
    "        resized_img.save(os.path.join(save_point, str(file_name).zfill(3)+'.png'))\n",
    "        file_name += 1"
   ]
  },
  {
   "cell_type": "code",
   "execution_count": null,
   "metadata": {},
   "outputs": [],
   "source": [
    "for dwi_p, adc_p in dwi_adc_pair:\n",
    "    dwi_3d_im = np.load(dwi_p)\n",
    "    adc_3d_im = np.load(adc_p)\n",
    "    "
   ]
  },
  {
   "cell_type": "code",
   "execution_count": null,
   "metadata": {},
   "outputs": [],
   "source": [
    "loadpoint = '/home/ncp/workspace/blocks1/dicom_to_np_3dnorm'\n",
    "dwi_loadpoint = os.path.join(loadpoint, 'dwi')\n",
    "adc_loadpoint = os.path.join(loadpoint, 'adc')\n",
    "\n",
    "savepoint = '/home/ncp/workspace/blocks1/dicom_to_np_3dnorm_resample'\n",
    "dwi_savepoint = os.path.join(savepoint, 'dwi')\n",
    "adc_savepoint = os.path.join(savepoint, 'adc')\n",
    "gen_new_dir(dwi_savepoint)\n",
    "gen_new_dir(adc_savepoint)\n",
    "\n",
    "dwi_npy_paths = load_file_path(dwi_loadpoint, NP_EXTENSION)\n",
    "adc_npy_paths = load_file_path(adc_loadpoint, NP_EXTENSION)\n",
    "\n",
    "for p in tqdm(dwi_npy_paths):\n",
    "    fname = os.path.splitext(os.path.basename(p))[0]\n",
    "    dwi_3d_im = np.load(p)\n",
    "    dwi_3d_im = resample_3d(dwi_3d_im)\n",
    "    save_arr_to_np(dwi_3d_im, dwi_savepoint, fname)\n",
    "    \n",
    "for p in tqdm(adc_npy_paths):\n",
    "    fname = os.path.splitext(os.path.basename(p))[0]\n",
    "    adc_3d_im = np.load(p)\n",
    "    adc_3d_im = resample_3d(adc_3d_im)\n",
    "    save_arr_to_np(adc_3d_im, adc_savepoint, fname)"
   ]
  },
  {
   "cell_type": "code",
   "execution_count": null,
   "metadata": {},
   "outputs": [],
   "source": [
    "savepoint = '/home/ncp/workspace/blocks1/dicom_to_np_2dnorm_resample'\n",
    "dwi_savepoint = os.path.join(savepoint, 'dwi')\n",
    "adc_savepoint = os.path.join(savepoint, 'adc')\n",
    "gen_new_dir(dwi_savepoint)\n",
    "gen_new_dir(adc_savepoint)\n",
    "\n",
    "for fname_, dwi_adc_ls_ in tqdm(fname_dicom_dict_load.items()):\n",
    "    dwi_path_ls, adc_path_ls = dwi_adc_ls_\n",
    "    if dwi_path_ls == []:\n",
    "        pass\n",
    "    else:\n",
    "        _, dwi_3d_im = load_mr_scans(dwi_path_ls)\n",
    "        dwi_3d_im = resample_3d(dwi_3d_im)\n",
    "        save_arr_to_np(dwi_3d_im, dwi_savepoint, fname_)\n",
    "    if adc_path_ls == None:\n",
    "        pass\n",
    "    else:\n",
    "        _, adc_3d_im = load_mr_scans(adc_path_ls)\n",
    "        adc_3d_im = resample_3d(adc_3d_im)\n",
    "        save_arr_to_np(adc_3d_im, adc_savepoint, fname_)"
   ]
  },
  {
   "cell_type": "code",
   "execution_count": null,
   "metadata": {},
   "outputs": [],
   "source": [
    "def load_mr_scans(dcm_paths):\n",
    "    #dcm_paths = sorted(load_file_path(patient_folder_path, DCM_EXTENSION))\n",
    "    \n",
    "    slices = [pydicom.read_file(dcm_path, force=True) for dcm_path in dcm_paths]\n",
    "    #slices = [s for s in slices if 'DIFFUSION' in s.ImageType]\n",
    "    #slices = [s for s in slices if '*ep_b1000t' == s.SequenceName]\n",
    "    slices.sort(key = lambda x: float(x.ImagePositionPatient[2]), reverse=True)\n",
    "    \n",
    "    \n",
    "    \n",
    "    images = np.stack([file.pixel_array for file in slices])\n",
    "    images = normalize(images)\n",
    "    return slices, images"
   ]
  },
  {
   "cell_type": "code",
   "execution_count": null,
   "metadata": {},
   "outputs": [],
   "source": [
    "savepoint = '/home/ncp/workspace/blocks1/dicom_to_np_3dnorm_resample'\n",
    "dwi_savepoint = os.path.join(savepoint, 'dwi')\n",
    "adc_savepoint = os.path.join(savepoint, 'adc')\n",
    "gen_new_dir(dwi_savepoint)\n",
    "gen_new_dir(adc_savepoint)\n",
    "\n",
    "for fname_, dwi_adc_ls_ in tqdm(fname_dicom_dict_load.items()):\n",
    "    dwi_path_ls, adc_path_ls = dwi_adc_ls_\n",
    "    if dwi_path_ls == []:\n",
    "        pass\n",
    "    else:\n",
    "        _, dwi_3d_im = load_mr_scans(dwi_path_ls)\n",
    "        dwi_3d_im = resample_3d(dwi_3d_im)\n",
    "        save_arr_to_np(dwi_3d_im, dwi_savepoint, fname_)\n",
    "    if adc_path_ls == None:\n",
    "        pass\n",
    "    else:\n",
    "        _, adc_3d_im = load_mr_scans(adc_path_ls)\n",
    "        adc_3d_im = resample_3d(adc_3d_im)\n",
    "        save_arr_to_np(adc_3d_im, adc_savepoint, fname_)"
   ]
  },
  {
   "cell_type": "code",
   "execution_count": null,
   "metadata": {},
   "outputs": [],
   "source": []
  }
 ],
 "metadata": {
  "kernelspec": {
   "display_name": "Python 3",
   "language": "python",
   "name": "python3"
  },
  "language_info": {
   "codemirror_mode": {
    "name": "ipython",
    "version": 3
   },
   "file_extension": ".py",
   "mimetype": "text/x-python",
   "name": "python",
   "nbconvert_exporter": "python",
   "pygments_lexer": "ipython3",
   "version": "3.6.9"
  }
 },
 "nbformat": 4,
 "nbformat_minor": 4
}
