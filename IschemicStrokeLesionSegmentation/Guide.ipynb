{
 "cells": [
  {
   "cell_type": "markdown",
   "metadata": {},
   "source": [
    "<a href=\"https://colab.research.google.com/github/Fr2zyRoom/KOHI2021_MedicalImage_Team3/blob/main/IschemicStrokeLesionSegmentation/Guide.ipynb\" target=\"_parent\"><img src=\"https://colab.research.google.com/assets/colab-badge.svg\" alt=\"Open In Colab\"/></a>"
   ]
  },
  {
   "cell_type": "markdown",
   "metadata": {},
   "source": [
    "# External Data Ischemic Stroke Segmentation"
   ]
  },
  {
   "cell_type": "markdown",
   "metadata": {},
   "source": [
    "**!!필수!!**   \n",
    "**라이브러리 다운로드에 앞서 [런타임]-[런타임 유형 변경]에서 하드웨어 가속기를 GPU로 변경합니다.  \n",
    "하드웨어 가속기를 GPU로 변경하면 모든 환경이 reset되기 때문에 꼭! 코드 실행 전에 변경해주시길 바랍니다.  \n",
    "\"!pip install grad-cam\" 까지 실행 후에 꼭 [런타임]-[런타임 다시 시작]을 눌러주세요.**  "
   ]
  },
  {
   "cell_type": "code",
   "execution_count": null,
   "metadata": {},
   "outputs": [],
   "source": [
    "!pip install --force-reinstall albumentations==1.0.3"
   ]
  },
  {
   "cell_type": "code",
   "execution_count": null,
   "metadata": {},
   "outputs": [],
   "source": [
    "!pip install segmentation-models-pytorch"
   ]
  },
  {
   "cell_type": "code",
   "execution_count": null,
   "metadata": {},
   "outputs": [],
   "source": [
    "!pip install pydicom"
   ]
  },
  {
   "cell_type": "code",
   "execution_count": null,
   "metadata": {},
   "outputs": [],
   "source": [
    "!pip install nibabel"
   ]
  },
  {
   "cell_type": "code",
   "execution_count": null,
   "metadata": {},
   "outputs": [],
   "source": [
    "!pip uninstall opencv-python -y"
   ]
  },
  {
   "cell_type": "code",
   "execution_count": null,
   "metadata": {},
   "outputs": [],
   "source": [
    "!pip install opencv-python"
   ]
  },
  {
   "cell_type": "markdown",
   "metadata": {},
   "source": [
    "**[런타임 다시 시작]** 후, Download dataset 부터 시작하시면 됩니다."
   ]
  },
  {
   "cell_type": "markdown",
   "metadata": {},
   "source": [
    "## Download dataset"
   ]
  },
  {
   "cell_type": "code",
   "execution_count": null,
   "metadata": {},
   "outputs": [],
   "source": [
    "!wget --load-cookies ~/cookies.txt \"https://docs.google.com/uc?export=download&confirm=$(wget --quiet --save-cookies ~/cookies.txt --keep-session-cookies --no-check-certificate 'https://docs.google.com/uc?export=download&id=1AoNMYmb4Y6F6jmWBLlpnVNlu2MhsuqWd' -O- | sed -rn 's/.*confirm=([0-9A-Za-z_]+).*/\\1\\n/p')&id=1AoNMYmb4Y6F6jmWBLlpnVNlu2MhsuqWd\" -O dataset.zip && rm -rf ~/cookies.txt"
   ]
  },
  {
   "cell_type": "code",
   "execution_count": null,
   "metadata": {},
   "outputs": [],
   "source": [
    "!unzip dataset.zip -d ./dataset"
   ]
  },
  {
   "cell_type": "code",
   "execution_count": null,
   "metadata": {},
   "outputs": [],
   "source": [
    "!wget --load-cookies ~/cookies.txt \"https://docs.google.com/uc?export=download&confirm=$(wget --quiet --save-cookies ~/cookies.txt --keep-session-cookies --no-check-certificate 'https://docs.google.com/uc?export=download&id=1gNoIaRCVH6IxOL1LhqHA925PZquCvuNB' -O- | sed -rn 's/.*confirm=([0-9A-Za-z_]+).*/\\1\\n/p')&id=1gNoIaRCVH6IxOL1LhqHA925PZquCvuNB\" -O mrtools.zip && rm -rf ~/cookies.txt"
   ]
  },
  {
   "cell_type": "code",
   "execution_count": null,
   "metadata": {},
   "outputs": [],
   "source": [
    "!unzip mrtools.zip -d ./mrtools"
   ]
  },
  {
   "cell_type": "code",
   "execution_count": null,
   "metadata": {},
   "outputs": [],
   "source": [
    "!wget --load-cookies ~/cookies.txt \"https://docs.google.com/uc?export=download&confirm=$(wget --quiet --save-cookies ~/cookies.txt --keep-session-cookies --no-check-certificate 'https://docs.google.com/uc?export=download&id=1s5q6yDDorl50G_LdOFS_q0NHy-01RQ21' -O- | sed -rn 's/.*confirm=([0-9A-Za-z_]+).*/\\1\\n/p')&id=1s5q6yDDorl50G_LdOFS_q0NHy-01RQ21\" -O tools.zip && rm -rf ~/cookies.txt"
   ]
  },
  {
   "cell_type": "code",
   "execution_count": null,
   "metadata": {},
   "outputs": [],
   "source": [
    "!unzip tools.zip -d ./tools"
   ]
  },
  {
   "cell_type": "code",
   "execution_count": null,
   "metadata": {},
   "outputs": [],
   "source": [
    "!wget --load-cookies ~/cookies.txt \"https://docs.google.com/uc?export=download&confirm=$(wget --quiet --save-cookies ~/cookies.txt --keep-session-cookies --no-check-certificate 'https://docs.google.com/uc?export=download&id=1z2TDgrl3z2bh-47Gs9Grssl6Sz8ys6sH' -O- | sed -rn 's/.*confirm=([0-9A-Za-z_]+).*/\\1\\n/p')&id=1z2TDgrl3z2bh-47Gs9Grssl6Sz8ys6sH\" -O util.zip && rm -rf ~/cookies.txt"
   ]
  },
  {
   "cell_type": "code",
   "execution_count": null,
   "metadata": {},
   "outputs": [],
   "source": [
    "!unzip util.zip -d ./util"
   ]
  },
  {
   "cell_type": "code",
   "execution_count": null,
   "metadata": {},
   "outputs": [],
   "source": [
    "!wget --load-cookies ~/cookies.txt \"https://docs.google.com/uc?export=download&confirm=$(wget --quiet --save-cookies ~/cookies.txt --keep-session-cookies --no-check-certificate 'https://docs.google.com/uc?export=download&id=1lIqQiSqBPVyRSghoRB9oJVBtCwW5_zNp' -O- | sed -rn 's/.*confirm=([0-9A-Za-z_]+).*/\\1\\n/p')&id=1lIqQiSqBPVyRSghoRB9oJVBtCwW5_zNp\" -O Unet_resnet152_best_model01.pth && rm -rf ~/cookies.txt"
   ]
  },
  {
   "cell_type": "code",
   "execution_count": null,
   "metadata": {},
   "outputs": [],
   "source": [
    "!wget --load-cookies ~/cookies.txt \"https://docs.google.com/uc?export=download&confirm=$(wget --quiet --save-cookies ~/cookies.txt --keep-session-cookies --no-check-certificate 'https://docs.google.com/uc?export=download&id=1P4e4LXmKRcQBTR_sNg-xAK9EN_KD5zyA' -O- | sed -rn 's/.*confirm=([0-9A-Za-z_]+).*/\\1\\n/p')&id=1P4e4LXmKRcQBTR_sNg-xAK9EN_KD5zyA\" -O UnetPlusPlus_eff_b4_best_model01.pth && rm -rf ~/cookies.txt"
   ]
  },
  {
   "cell_type": "code",
   "execution_count": null,
   "metadata": {},
   "outputs": [],
   "source": [
    "!wget --load-cookies ~/cookies.txt \"https://docs.google.com/uc?export=download&confirm=$(wget --quiet --save-cookies ~/cookies.txt --keep-session-cookies --no-check-certificate 'https://docs.google.com/uc?export=download&id=1Oa2V41FaFUlYyNpjL173IT4Dlq6BZGLH' -O- | sed -rn 's/.*confirm=([0-9A-Za-z_]+).*/\\1\\n/p')&id=1Oa2V41FaFUlYyNpjL173IT4Dlq6BZGLH\" -O data_preprocess.py && rm -rf ~/cookies.txt"
   ]
  },
  {
   "cell_type": "code",
   "execution_count": null,
   "metadata": {},
   "outputs": [],
   "source": [
    "!wget --load-cookies ~/cookies.txt \"https://docs.google.com/uc?export=download&confirm=$(wget --quiet --save-cookies ~/cookies.txt --keep-session-cookies --no-check-certificate 'https://docs.google.com/uc?export=download&id=109JoaH9R5Ox8Vd0HhjL6VssCI9NjIw5_' -O- | sed -rn 's/.*confirm=([0-9A-Za-z_]+).*/\\1\\n/p')&id=109JoaH9R5Ox8Vd0HhjL6VssCI9NjIw5_\" -O stroke_lesion_seg.py && rm -rf ~/cookies.txt"
   ]
  },
  {
   "cell_type": "markdown",
   "metadata": {},
   "source": [
    "## Preprocessing and Inference"
   ]
  },
  {
   "cell_type": "code",
   "execution_count": 38,
   "metadata": {},
   "outputs": [
    {
     "name": "stdout",
     "output_type": "stream",
     "text": [
      "/home/KOHI/KOHI2021_MedicalImage_Team3/IschemicStrokeLesionSegmentation\n"
     ]
    }
   ],
   "source": [
    "!pwd"
   ]
  },
  {
   "cell_type": "code",
   "execution_count": null,
   "metadata": {},
   "outputs": [],
   "source": [
    "!python data_preprocess.py --dataroot /home/KOHI/external/dataset/EV --savepoint ./2d_preprocess"
   ]
  },
  {
   "cell_type": "code",
   "execution_count": null,
   "metadata": {},
   "outputs": [],
   "source": [
    "!python stroke_lesion_seg.py --dataroot ./2d_preprocess --savepoint ./pred_mask --weights Unet_resnet152_best_model01.pth"
   ]
  },
  {
   "cell_type": "code",
   "execution_count": null,
   "metadata": {},
   "outputs": [],
   "source": [
    "from util.util import *\n",
    "import matplotlib.pyplot as plt"
   ]
  },
  {
   "cell_type": "code",
   "execution_count": null,
   "metadata": {},
   "outputs": [],
   "source": [
    "img_folder_dir = './2d_preprocess'\n",
    "pred_mask_folder_dir = './pred_mask'"
   ]
  },
  {
   "cell_type": "code",
   "execution_count": null,
   "metadata": {},
   "outputs": [],
   "source": [
    "file_name_ls = sorted([f for f in os.listdir(img_folder_dir) if f.startswith('.') is False])"
   ]
  },
  {
   "cell_type": "code",
   "execution_count": null,
   "metadata": {},
   "outputs": [],
   "source": [
    "# Case number\n",
    "N=1"
   ]
  },
  {
   "cell_type": "code",
   "execution_count": null,
   "metadata": {},
   "outputs": [],
   "source": [
    "dwi_dir = os.path.join(img_folder_dir, file_name_ls[N], 'dwi')\n",
    "adc_dir = os.path.join(img_folder_dir, file_name_ls[N], 'adc')\n",
    "pred_mask_dir = os.path.join(pred_mask_folder_dir, file_name_ls[N], 'pred_masks')"
   ]
  },
  {
   "cell_type": "code",
   "execution_count": null,
   "metadata": {},
   "outputs": [],
   "source": [
    "dwi_path_ls = load_file_path(dwi_dir, IMG_EXTENSION)\n",
    "adc_path_ls = load_file_path(adc_dir, IMG_EXTENSION)\n",
    "pred_mask_path_ls = load_file_path(pred_mask_dir, IMG_EXTENSION)"
   ]
  },
  {
   "cell_type": "code",
   "execution_count": null,
   "metadata": {},
   "outputs": [],
   "source": [
    "for dwi_path, adc_path, pred_mask_path in zip(dwi_path_ls, adc_path_ls, pred_mask_path_ls):\n",
    "    dwi = np.array(Image.open(dwi_path))\n",
    "    adc = np.array(Image.open(adc_path))\n",
    "    pred_mask = np.array(Image.open(pred_mask_path))\n",
    "    \n",
    "    fig,ax = plt.subplots(1, 4, figsize=(20, 15))\n",
    "    ax[0].imshow(dwi, cmap='gray')\n",
    "    ax[0].set_title(f'DWI({file_name_ls[N]})')\n",
    "    ax[1].imshow(adc, cmap='gray')\n",
    "    ax[1].set_title(f'ADC')\n",
    "    ax[2].imshow(pred_mask, cmap='gray')\n",
    "    ax[2].set_title(f'Pred mask')\n",
    "    ax[3].imshow(dwi, cmap='gray')\n",
    "    ax[3].imshow(pred_mask,alpha=.3)\n",
    "    ax[3].set_title(f'DWI+Pred mask')"
   ]
  },
  {
   "cell_type": "code",
   "execution_count": null,
   "metadata": {},
   "outputs": [],
   "source": []
  },
  {
   "cell_type": "code",
   "execution_count": null,
   "metadata": {},
   "outputs": [],
   "source": []
  }
 ],
 "metadata": {
  "kernelspec": {
   "display_name": "Python 3",
   "language": "python",
   "name": "python3"
  },
  "language_info": {
   "codemirror_mode": {
    "name": "ipython",
    "version": 3
   },
   "file_extension": ".py",
   "mimetype": "text/x-python",
   "name": "python",
   "nbconvert_exporter": "python",
   "pygments_lexer": "ipython3",
   "version": "3.6.9"
  }
 },
 "nbformat": 4,
 "nbformat_minor": 4
}
